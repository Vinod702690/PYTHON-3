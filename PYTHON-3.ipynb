{
 "cells": [
  {
   "cell_type": "raw",
   "id": "7c99410f-5d71-4f21-9c7b-11892f40ad0a",
   "metadata": {},
   "source": [
    "swapcase() method #"
   ]
  },
  {
   "cell_type": "code",
   "execution_count": 1,
   "id": "2ff230c8-5e7f-4dba-85ba-9c2fa15a5857",
   "metadata": {},
   "outputs": [
    {
     "data": {
      "text/plain": [
       "'abcDEF'"
      ]
     },
     "execution_count": 1,
     "metadata": {},
     "output_type": "execute_result"
    }
   ],
   "source": [
    "\"ABCdef\".swapcase()"
   ]
  },
  {
   "cell_type": "code",
   "execution_count": 2,
   "id": "c8635bbb-1f94-4664-b488-d65ca70d1ea3",
   "metadata": {},
   "outputs": [
    {
     "data": {
      "text/plain": [
       "'DEF'"
      ]
     },
     "execution_count": 2,
     "metadata": {},
     "output_type": "execute_result"
    }
   ],
   "source": [
    "\"def\".swapcase()"
   ]
  },
  {
   "cell_type": "raw",
   "id": "33460a30-5a89-44ef-b015-05f54cc74c0a",
   "metadata": {},
   "source": [
    "strip() method "
   ]
  },
  {
   "cell_type": "code",
   "execution_count": 3,
   "id": "025b551f-ea70-458d-bed8-b32dc8c37647",
   "metadata": {},
   "outputs": [
    {
     "name": "stdout",
     "output_type": "stream",
     "text": [
      "\n",
      "\tName\tAge\n"
     ]
    }
   ],
   "source": [
    " s1 = \"\\n\\tName\\tAge\"\n",
    "print(s1)"
   ]
  },
  {
   "cell_type": "code",
   "execution_count": 4,
   "id": "aa235bbd-9f47-42ac-8228-e46f5fc72ca5",
   "metadata": {},
   "outputs": [
    {
     "data": {
      "text/plain": [
       "'Name\\tAge'"
      ]
     },
     "execution_count": 4,
     "metadata": {},
     "output_type": "execute_result"
    }
   ],
   "source": [
    "s2 = s1.strip()\n",
    "s2"
   ]
  },
  {
   "cell_type": "code",
   "execution_count": 5,
   "id": "cbbfd826-0af2-4a24-801f-de5de6ec613a",
   "metadata": {},
   "outputs": [
    {
     "name": "stdout",
     "output_type": "stream",
     "text": [
      "Name\tAge\n"
     ]
    }
   ],
   "source": [
    " print(s2)"
   ]
  },
  {
   "cell_type": "code",
   "execution_count": 6,
   "id": "15df2b25-2c0b-4aaa-9e8c-022201782405",
   "metadata": {},
   "outputs": [
    {
     "data": {
      "text/plain": [
       "'Name\\tAge'"
      ]
     },
     "execution_count": 6,
     "metadata": {},
     "output_type": "execute_result"
    }
   ],
   "source": [
    "s  = \"--Name\\tAge--\"\n",
    "s.strip(\"-\")"
   ]
  },
  {
   "cell_type": "raw",
   "id": "faa0ad9d-f71b-45e6-b6a3-cb3b87d92022",
   "metadata": {},
   "source": [
    "Formatting Methods"
   ]
  },
  {
   "cell_type": "code",
   "execution_count": 7,
   "id": "acc2fce3-62a5-4bf5-a2c2-ae1dc0bb93eb",
   "metadata": {},
   "outputs": [
    {
     "data": {
      "text/plain": [
       "'        NAME        '"
      ]
     },
     "execution_count": 7,
     "metadata": {},
     "output_type": "execute_result"
    }
   ],
   "source": [
    "\"NAME\".center(20)"
   ]
  },
  {
   "cell_type": "code",
   "execution_count": 8,
   "id": "1f6ffcb0-188d-4cae-b69c-c2d770557ad6",
   "metadata": {},
   "outputs": [
    {
     "data": {
      "text/plain": [
       "'NAME      '"
      ]
     },
     "execution_count": 8,
     "metadata": {},
     "output_type": "execute_result"
    }
   ],
   "source": [
    "\"NAME\".ljust(10)"
   ]
  },
  {
   "cell_type": "code",
   "execution_count": 9,
   "id": "57d31c54-f75e-412f-8f31-0cca32645c85",
   "metadata": {},
   "outputs": [
    {
     "data": {
      "text/plain": [
       "'      NAME'"
      ]
     },
     "execution_count": 9,
     "metadata": {},
     "output_type": "execute_result"
    }
   ],
   "source": [
    "\"NAME\".rjust(10)"
   ]
  },
  {
   "cell_type": "code",
   "execution_count": 9,
   "id": "383d62fb-f14b-4cfa-be1e-7f8414aa9ac8",
   "metadata": {},
   "outputs": [
    {
     "data": {
      "text/plain": [
       "'      NAME'"
      ]
     },
     "execution_count": 9,
     "metadata": {},
     "output_type": "execute_result"
    }
   ],
   "source": [
    "\"NAME\".rjust(10)"
   ]
  },
  {
   "cell_type": "raw",
   "id": "028d3059-f860-4eb8-8bea-4bfce7a9b119",
   "metadata": {},
   "source": [
    "If-else statements in Python"
   ]
  },
  {
   "cell_type": "code",
   "execution_count": 10,
   "id": "a888f07f-b163-4971-a93a-4778736c2203",
   "metadata": {},
   "outputs": [
    {
     "name": "stdin",
     "output_type": "stream",
     "text": [
      "Enter a number:  100\n"
     ]
    },
    {
     "name": "stdout",
     "output_type": "stream",
     "text": [
      "Number is greater than 10\n"
     ]
    }
   ],
   "source": [
    "number = int(input(\"Enter a number: \"))\n",
    "\n",
    "if number > 10:\n",
    "    print(\"Number is greater than 10\")\n"
   ]
  },
  {
   "cell_type": "code",
   "execution_count": 13,
   "id": "06bf5d33-89b3-45bb-8bb4-e04d5e0647ec",
   "metadata": {},
   "outputs": [
    {
     "name": "stdin",
     "output_type": "stream",
     "text": [
      "Enter a number:  5\n"
     ]
    }
   ],
   "source": [
    "number = int(input(\"Enter a number: \"))\n",
    "\n",
    "if number > 10:\n",
    "    print(\"Number is greater than 10\")\n"
   ]
  },
  {
   "cell_type": "code",
   "execution_count": 14,
   "id": "cb3b516a-8469-4cc9-aec7-05bf51fdd1a8",
   "metadata": {},
   "outputs": [
    {
     "name": "stdin",
     "output_type": "stream",
     "text": [
      "Enter a number:  45\n"
     ]
    },
    {
     "name": "stdout",
     "output_type": "stream",
     "text": [
      "statement 1\n",
      "statement 2\n",
      "statement 3\n",
      "Executes every time you run the program\n",
      "Program ends here\n"
     ]
    }
   ],
   "source": [
    "number = int(input(\"Enter a number: \"))\n",
    "if number > 10:\n",
    "    print(\"statement 1\")\n",
    "    print(\"statement 2\")\n",
    "    print(\"statement 3\")\n",
    "print(\"Executes every time you run the program\")\n",
    "print(\"Program ends here\")"
   ]
  },
  {
   "cell_type": "code",
   "execution_count": 15,
   "id": "fde8f725-db16-46fe-a0b6-1e628fccce6d",
   "metadata": {},
   "outputs": [
    {
     "name": "stdin",
     "output_type": "stream",
     "text": [
      "Enter a number:  4\n"
     ]
    },
    {
     "name": "stdout",
     "output_type": "stream",
     "text": [
      "Executes every time you run the program\n",
      "Program ends here\n"
     ]
    }
   ],
   "source": [
    "number = int(input(\"Enter a number: \"))\n",
    "if number > 10:\n",
    "    print(\"statement 1\")\n",
    "    print(\"statement 2\")\n",
    "    print(\"statement 3\")\n",
    "print(\"Executes every time you run the program\")\n",
    "print(\"Program ends here\")"
   ]
  },
  {
   "cell_type": "code",
   "execution_count": 23,
   "id": "66c8be2b-b8ee-4cdd-9bc4-b62959cca6ed",
   "metadata": {},
   "outputs": [
    {
     "name": "stdout",
     "output_type": "stream",
     "text": [
      "n is greater than 10\n"
     ]
    }
   ],
   "source": [
    ">>>\n",
    ">>> n = 100\n",
    ">>> if n > 10:\n",
    "...     print(\"n is greater than 10\")\n",
    "..."
   ]
  },
  {
   "cell_type": "raw",
   "id": "30baad1a-5191-419d-b0c9-8303f90b434f",
   "metadata": {},
   "source": [
    "if-else statement"
   ]
  },
  {
   "cell_type": "code",
   "execution_count": 24,
   "id": "944cb624-12b4-44dd-b425-73bd28c5f287",
   "metadata": {},
   "outputs": [
    {
     "name": "stdin",
     "output_type": "stream",
     "text": [
      "Enter radius:  5\n"
     ]
    },
    {
     "name": "stdout",
     "output_type": "stream",
     "text": [
      "Circumference =  31.400000000000002\n",
      "Area =  78.5\n"
     ]
    }
   ],
   "source": [
    "radius = int(input(\"Enter radius: \"))\n",
    "if radius >= 0:\n",
    "    print(\"Circumference = \", 2 * 3.14 * radius)\n",
    "    print(\"Area = \", 3.14 * radius ** 2 )\n",
    "else:\n",
    "    print(\"Please enter a positive number\")"
   ]
  },
  {
   "cell_type": "code",
   "execution_count": 25,
   "id": "2182b991-78ab-4a06-ad74-f0c816a87324",
   "metadata": {},
   "outputs": [
    {
     "name": "stdin",
     "output_type": "stream",
     "text": [
      "Enter radius:  -12\n"
     ]
    },
    {
     "name": "stdout",
     "output_type": "stream",
     "text": [
      "Please enter a positive number\n"
     ]
    }
   ],
   "source": [
    "radius = int(input(\"Enter radius: \"))\n",
    "if radius >= 0:\n",
    "    print(\"Circumference = \", 2 * 3.14 * radius)\n",
    "    print(\"Area = \", 3.14 * radius ** 2 )\n",
    "else:\n",
    "    print(\"Please enter a positive number\")\n"
   ]
  },
  {
   "cell_type": "code",
   "execution_count": 27,
   "id": "9dca8fcd-2977-4af7-af6c-eca14206376c",
   "metadata": {},
   "outputs": [
    {
     "name": "stdin",
     "output_type": "stream",
     "text": [
      "Enter a password:  sshh\n"
     ]
    },
    {
     "name": "stdout",
     "output_type": "stream",
     "text": [
      "Welcome to the Secret World\n"
     ]
    }
   ],
   "source": [
    "password = input(\"Enter a password: \")\n",
    "if password == \"sshh\":\n",
    "    print(\"Welcome to the Secret World\")\n",
    "else:\n",
    "    print(\"You are not allowed here\")\n"
   ]
  },
  {
   "cell_type": "code",
   "execution_count": 28,
   "id": "0aa7b379-d6f0-4d80-9e3c-348b995eab58",
   "metadata": {},
   "outputs": [
    {
     "name": "stdin",
     "output_type": "stream",
     "text": [
      "Enter a password:  vv\n"
     ]
    },
    {
     "name": "stdout",
     "output_type": "stream",
     "text": [
      "You are not allowed here\n"
     ]
    }
   ],
   "source": [
    "password = input(\"Enter a password: \")\n",
    "if password == \"sshh\":\n",
    "    print(\"Welcome to the Secret World\")\n",
    "else:\n",
    "    print(\"You are not allowed here\")"
   ]
  },
  {
   "cell_type": "raw",
   "id": "8d1d9780-67a8-4ba3-9103-f12909fab60d",
   "metadata": {},
   "source": [
    "Nested if and if-else statement"
   ]
  },
  {
   "cell_type": "code",
   "execution_count": 30,
   "id": "df1624f9-c70f-4e3c-979e-0132a2f91cc0",
   "metadata": {},
   "outputs": [
    {
     "name": "stdin",
     "output_type": "stream",
     "text": [
      "Enter your GRE score:  165\n",
      "Enter percent secured in graduation:  75\n"
     ]
    },
    {
     "name": "stdout",
     "output_type": "stream",
     "text": [
      "Congratulations you are eligible for loan\n"
     ]
    }
   ],
   "source": [
    "gre_score = int(input(\"Enter your GRE score: \"))\n",
    "per_grad = int(input(\"Enter percent secured in graduation: \"))\n",
    "\n",
    "if per_grad > 70:\n",
    "    # outer if block\n",
    "    if gre_score > 150:\n",
    "        # inner if block\n",
    "        print(\"Congratulations you are eligible for loan\")\n",
    "else:\n",
    "    print(\"Sorry, you are not eligible for loan\")"
   ]
  },
  {
   "cell_type": "code",
   "execution_count": 31,
   "id": "de2528e7-8e12-4ec2-b017-8de50122d9e7",
   "metadata": {},
   "outputs": [
    {
     "name": "stdin",
     "output_type": "stream",
     "text": [
      "Enter your GRE score:  165\n",
      "Enter percent secured in graduation:  65\n"
     ]
    },
    {
     "name": "stdout",
     "output_type": "stream",
     "text": [
      "Sorry, you are not eligible for loan\n"
     ]
    }
   ],
   "source": [
    "gre_score = int(input(\"Enter your GRE score: \"))\n",
    "per_grad = int(input(\"Enter percent secured in graduation: \"))\n",
    "\n",
    "if per_grad > 70:\n",
    "    # outer if block\n",
    "    if gre_score > 150:\n",
    "        # inner if block\n",
    "        print(\"Congratulations you are eligible for loan\")\n",
    "else:\n",
    "    print(\"Sorry, you are not eligible for loan\")\n"
   ]
  },
  {
   "cell_type": "code",
   "execution_count": 1,
   "id": "968d8cf9-745d-4133-aa67-64d0a0369ba0",
   "metadata": {},
   "outputs": [
    {
     "name": "stdin",
     "output_type": "stream",
     "text": [
      "Enter your GRE score:  140\n",
      "Enter percent secured in graduation:  80\n"
     ]
    }
   ],
   "source": [
    "gre_score = int(input(\"Enter your GRE score: \"))\n",
    "per_grad = int(input(\"Enter percent secured in graduation: \"))\n",
    "\n",
    "if per_grad > 70:\n",
    "    # outer if block\n",
    "    if gre_score > 150:\n",
    "        # inner if block\n",
    "        print(\"Congratulations you are eligible for loan\")\n",
    "else:\n",
    "    print(\"Sorry, you are not eligible for loan\")"
   ]
  },
  {
   "cell_type": "code",
   "execution_count": 2,
   "id": "58f13109-022b-4f5c-a2e0-d8322c7f05d7",
   "metadata": {},
   "outputs": [
    {
     "name": "stdin",
     "output_type": "stream",
     "text": [
      "Enter your GRE score:  140\n",
      "Enter percent secured in graduation:  80\n"
     ]
    },
    {
     "name": "stdout",
     "output_type": "stream",
     "text": [
      "Your GRE score is no good enough. You should retake the exam.\n"
     ]
    }
   ],
   "source": [
    "gre_score = int(input(\"Enter your GRE score: \"))\n",
    "per_grad = int(input(\"Enter percent secured in graduation: \"))\n",
    "\n",
    "if per_grad > 70:\n",
    "    if gre_score > 150:\n",
    "        print(\"Congratulations you are eligible for loan.\")\n",
    "    else:\n",
    "        print(\"Your GRE score is no good enough. You should retake the exam.\")\n",
    "else:\n",
    "    print(\"Sorry, you are not eligible for loan.\")\n",
    "    "
   ]
  },
  {
   "cell_type": "raw",
   "id": "58946652-34da-4e38-9b82-81b43ef26615",
   "metadata": {},
   "source": [
    "if-else statement inside else clause."
   ]
  },
  {
   "cell_type": "code",
   "execution_count": 3,
   "id": "f29316a5-8fb9-438c-bb69-8921ded896d9",
   "metadata": {},
   "outputs": [
    {
     "name": "stdin",
     "output_type": "stream",
     "text": [
      "Enter your marks:  92\n"
     ]
    },
    {
     "name": "stdout",
     "output_type": "stream",
     "text": [
      "Excellent ! Your grade is A\n"
     ]
    }
   ],
   "source": [
    "score = int(input(\"Enter your marks: \"))\n",
    "\n",
    "if score >= 90:\n",
    "    print(\"Excellent ! Your grade is A\")\n",
    "else:\n",
    "    if score >= 80:\n",
    "        print(\"Great ! Your grade is B\")\n",
    "    else:\n",
    "        if score >= 70:\n",
    "            print(\"Good ! Your grade is C\")\n",
    "        else:\n",
    "            if score >= 60:\n",
    "                print(\"Your grade is D. You should work hard on you subjects.\")\n",
    "            else:\n",
    "                print(\"You failed in the exam\")\n",
    "            "
   ]
  },
  {
   "cell_type": "code",
   "execution_count": 4,
   "id": "ffa3feeb-3e21-406f-a5e6-f77c9fcb091e",
   "metadata": {},
   "outputs": [
    {
     "name": "stdin",
     "output_type": "stream",
     "text": [
      "Enter your marks:  75\n"
     ]
    },
    {
     "name": "stdout",
     "output_type": "stream",
     "text": [
      "Good ! Your grade is C\n"
     ]
    }
   ],
   "source": [
    "score = int(input(\"Enter your marks: \"))\n",
    "\n",
    "if score >= 90:\n",
    "    print(\"Excellent ! Your grade is A\")\n",
    "else:\n",
    "    if score >= 80:\n",
    "        print(\"Great ! Your grade is B\")\n",
    "    else:\n",
    "        if score >= 70:\n",
    "            print(\"Good ! Your grade is C\")\n",
    "        else:\n",
    "            if score >= 60:\n",
    "                print(\"Your grade is D. You should work hard on you subjects.\")\n",
    "            else:\n",
    "                print(\"You failed in the exam\")"
   ]
  },
  {
   "cell_type": "code",
   "execution_count": 5,
   "id": "14396268-f369-4669-bb89-df67a9e19b44",
   "metadata": {},
   "outputs": [
    {
     "name": "stdin",
     "output_type": "stream",
     "text": [
      "Enter your marks:  56\n"
     ]
    },
    {
     "name": "stdout",
     "output_type": "stream",
     "text": [
      "You failed in the exam\n"
     ]
    }
   ],
   "source": [
    "score = int(input(\"Enter your marks: \"))\n",
    "\n",
    "if score >= 90:\n",
    "    print(\"Excellent ! Your grade is A\")\n",
    "else:\n",
    "    if score >= 80:\n",
    "        print(\"Great ! Your grade is B\")\n",
    "    else:\n",
    "        if score >= 70:\n",
    "            print(\"Good ! Your grade is C\")\n",
    "        else:\n",
    "            if score >= 60:\n",
    "                print(\"Your grade is D. You should work hard on you subjects.\")\n",
    "            else:\n",
    "                print(\"You failed in the exam\")"
   ]
  },
  {
   "cell_type": "raw",
   "id": "321520a6-9645-48d9-bf25-f3f3749eee8a",
   "metadata": {},
   "source": [
    "if-elif-else statement"
   ]
  },
  {
   "cell_type": "code",
   "execution_count": 6,
   "id": "52cab476-bd2a-47f3-a7ec-8ce54f368bad",
   "metadata": {},
   "outputs": [
    {
     "name": "stdin",
     "output_type": "stream",
     "text": [
      "Enter your marks:  90\n"
     ]
    },
    {
     "name": "stdout",
     "output_type": "stream",
     "text": [
      "Excellent! Your grade is A\n"
     ]
    }
   ],
   "source": [
    "score = int(input(\"Enter your marks: \"))\n",
    "\n",
    "if score >= 90:\n",
    "    print(\"Excellent! Your grade is A\")\n",
    "elif score >= 80:\n",
    "    print(\"Great! Your grade is B\")\n",
    "elif score >= 70:\n",
    "    print(\"Good! Your grade is C\")\n",
    "elif score >= 60:\n",
    "    print(\"Your grade is D. You should work hard on you studies.\")\n",
    "else:\n",
    "    print(\"You failed in the exam\")\n",
    "    "
   ]
  },
  {
   "cell_type": "code",
   "execution_count": 7,
   "id": "ede8daac-b703-418b-baef-d17e2ad0a180",
   "metadata": {},
   "outputs": [
    {
     "name": "stdin",
     "output_type": "stream",
     "text": [
      "Enter your marks:  70\n"
     ]
    },
    {
     "name": "stdout",
     "output_type": "stream",
     "text": [
      "Good! Your grade is C\n"
     ]
    }
   ],
   "source": [
    "score = int(input(\"Enter your marks: \"))\n",
    "\n",
    "if score >= 90:\n",
    "    print(\"Excellent! Your grade is A\")\n",
    "elif score >= 80:\n",
    "    print(\"Great! Your grade is B\")\n",
    "elif score >= 70:\n",
    "    print(\"Good! Your grade is C\")\n",
    "elif score >= 60:\n",
    "    print(\"Your grade is D. You should work hard on you studies.\")\n",
    "else:\n",
    "    print(\"You failed in the exam\")"
   ]
  },
  {
   "cell_type": "code",
   "execution_count": 8,
   "id": "2a2973c8-8648-4626-a9ce-925d48b8366e",
   "metadata": {},
   "outputs": [
    {
     "name": "stdin",
     "output_type": "stream",
     "text": [
      "Enter your marks:  50\n"
     ]
    },
    {
     "name": "stdout",
     "output_type": "stream",
     "text": [
      "You failed in the exam\n"
     ]
    }
   ],
   "source": [
    "score = int(input(\"Enter your marks: \"))\n",
    "\n",
    "if score >= 90:\n",
    "    print(\"Excellent! Your grade is A\")\n",
    "elif score >= 80:\n",
    "    print(\"Great! Your grade is B\")\n",
    "elif score >= 70:\n",
    "    print(\"Good! Your grade is C\")\n",
    "elif score >= 60:\n",
    "    print(\"Your grade is D. You should work hard on you studies.\")\n",
    "else:\n",
    "    print(\"You failed in the exam\")"
   ]
  },
  {
   "cell_type": "code",
   "execution_count": null,
   "id": "4181229e-7341-4b00-971f-17ad5f345d0a",
   "metadata": {},
   "outputs": [],
   "source": []
  },
  {
   "cell_type": "code",
   "execution_count": null,
   "id": "c8bbea3a-78be-4041-9b9e-cf89d71cc6ba",
   "metadata": {},
   "outputs": [],
   "source": []
  }
 ],
 "metadata": {
  "kernelspec": {
   "display_name": "Python 3 (ipykernel)",
   "language": "python",
   "name": "python3"
  },
  "language_info": {
   "codemirror_mode": {
    "name": "ipython",
    "version": 3
   },
   "file_extension": ".py",
   "mimetype": "text/x-python",
   "name": "python",
   "nbconvert_exporter": "python",
   "pygments_lexer": "ipython3",
   "version": "3.12.3"
  }
 },
 "nbformat": 4,
 "nbformat_minor": 5
}
